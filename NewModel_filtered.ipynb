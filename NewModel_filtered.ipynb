{
 "cells": [
  {
   "cell_type": "code",
   "execution_count": null,
   "id": "e0b510e8",
   "metadata": {},
   "outputs": [],
   "source": [
    "import pandas as pd\n",
    "import numpy as np\n",
    "from sklearn.model_selection import train_test_split\n",
    "from sklearn.preprocessing import MultiLabelBinarizer\n",
    "from sklearn.feature_extraction.text import TfidfVectorizer\n",
    "from lightgbm import LGBMClassifier\n",
    "from tqdm import tqdm\n",
    "import joblib\n",
    "import os\n",
    "from datetime import datetime"
   ]
  },
  {
   "cell_type": "code",
   "execution_count": null,
   "id": "de907c39",
   "metadata": {},
   "outputs": [],
   "source": [
    "# ------------------ Load Base Data ------------------\n",
    "df = pd.read_csv(\"Data_Final.csv\")\n",
    "df.columns = df.columns.str.strip()\n",
    "df = df.dropna(subset=[\"SampleName\", \"MasterTestCode\"])"
   ]
  },
  {
   "cell_type": "code",
   "execution_count": null,
   "id": "89392cd0",
   "metadata": {},
   "outputs": [],
   "source": [
    "# ------------------ Feature Engineering: Final with Time & Count Weights + SampleName Text ------------------\n",
    "# Ensure binary columns\n",
    "for col in [\"FeBase\", \"Destruct\", \"IsLarge\"]:\n",
    "    df[col] = df[col].fillna(0).astype(int)\n",
    "\n",
    "# Load dependency info\n",
    "strong_deps = pd.read_csv(\"strong_test_dependencies.csv\")\n",
    "strong_counts = strong_deps.groupby(\"Test1\").size().reset_index(name=\"StrongDepCount\")\n",
    "df = df.merge(strong_counts, left_on=\"MasterTestCode\", right_on=\"Test1\", how=\"left\")\n",
    "df[\"StrongDepCount\"] = df[\"StrongDepCount\"].fillna(0)\n",
    "\n",
    "# Mean physical attributes by MasterTestCode\n",
    "avg_phys = df.groupby(\"MasterTestCode\")[[\"FeBase\", \"Destruct\", \"IsLarge\"]].mean().reset_index()\n",
    "df = df.merge(avg_phys, on=\"MasterTestCode\", suffixes=(\"\", \"_mean\"))\n",
    "\n",
    "# --- Time-based Features ---\n",
    "df[\"MaxDate\"] = pd.to_datetime(df[\"MaxDate\"], errors=\"coerce\")\n",
    "now = pd.Timestamp.now()\n",
    "df[\"TestAgeDays\"] = (now - df[\"MaxDate\"]).dt.days.clip(lower=1)\n",
    "df[\"TimeWeight\"] = 1 / df[\"TestAgeDays\"]\n",
    "\n",
    "# --- Count-based Features ---\n",
    "df[\"TestImportance\"] = df[\"TestCount\"] * df[\"TimeWeight\"]\n",
    "df[\"LogTotalCount\"] = np.log1p(df[\"TotalCount\"])\n",
    "\n",
    "# --- Weighted Feature Columns ---\n",
    "df[\"WF_FeBase\"] = df[\"FeBase\"] * df[\"TestImportance\"]\n",
    "df[\"WF_Destruct\"] = df[\"Destruct\"] * df[\"TestImportance\"]\n",
    "df[\"WF_IsLarge\"] = df[\"IsLarge\"] * df[\"TestImportance\"]\n",
    "df[\"WF_StrongDep\"] = df[\"StrongDepCount\"] * df[\"TestImportance\"]\n",
    "\n",
    "# --- Group by SampleName ---\n",
    "sample_features = df.groupby(\"SampleName\").agg({\n",
    "    \"MasterTestCode\": lambda x: \" \".join(str(i) for i in x.dropna()),\n",
    "    \"WF_FeBase\": \"mean\",\n",
    "    \"WF_Destruct\": \"mean\",\n",
    "    \"WF_IsLarge\": \"mean\",\n",
    "    \"WF_StrongDep\": \"mean\",\n",
    "    \"FeBase_mean\": \"mean\",\n",
    "    \"Destruct_mean\": \"mean\",\n",
    "    \"IsLarge_mean\": \"mean\",\n",
    "    \"LogTotalCount\": \"mean\"\n",
    "})\n",
    "\n",
    "sample_features.rename(columns={\n",
    "    \"WF_FeBase\": \"FeBase_weighted\",\n",
    "    \"WF_Destruct\": \"Destruct_weighted\",\n",
    "    \"WF_IsLarge\": \"IsLarge_weighted\",\n",
    "    \"WF_StrongDep\": \"StrongDepCount_weighted\"\n",
    "}, inplace=True)\n",
    "\n",
    "# --- TF-IDF of SampleName (for similarity like پیچ m24 vs m42) ---\n",
    "sample_features[\"SampleName\"] = sample_features.index.astype(str)\n",
    "sample_vectorizer = TfidfVectorizer(analyzer='word', ngram_range=(1, 2))\n",
    "X_sample_name_text = sample_vectorizer.fit_transform(sample_features[\"SampleName\"])\n",
    "\n",
    "print(\"✅ فیچرهای نهایی با زمان، تکرار و متن SampleName ساخته شدند.\")\n"
   ]
  },
  {
   "cell_type": "code",
   "execution_count": null,
   "id": "a6deb15e",
   "metadata": {},
   "outputs": [],
   "source": [
    "# ------------------ Vectorize SampleName ------------------\n",
    "vectorizer = TfidfVectorizer(analyzer=\"char_wb\", ngram_range=(3, 5), max_features=1000)\n",
    "X_text = vectorizer.fit_transform(df[\"SampleName\"].astype(str))"
   ]
  },
  {
   "cell_type": "code",
   "execution_count": null,
   "id": "7bb11f10",
   "metadata": {},
   "outputs": [],
   "source": [
    "from scipy.sparse import hstack, csr_matrix\n",
    "\n",
    "# 1. TF-IDF از MasterTestCode (ویژگی‌های متنی مربوط به تست‌ها)\n",
    "X_text = vectorizer.transform(sample_features[\"MasterTestCode\"])\n",
    "\n",
    "# 2. ویژگی‌های عددی نهایی\n",
    "X_numeric = sample_features[[\n",
    "    \"FeBase_weighted\", \"Destruct_weighted\", \"IsLarge_weighted\",\n",
    "    \"StrongDepCount_weighted\",\n",
    "    \"FeBase_mean\", \"Destruct_mean\", \"IsLarge_mean\",\n",
    "    \"LogTotalCount\"\n",
    "]].fillna(0).values\n",
    "X_numeric_sparse = csr_matrix(X_numeric)\n",
    "\n",
    "# 3. ویژگی متنی SampleName (TF-IDF)\n",
    "# (فرض بر اینکه sample_vectorizer و X_sample_name_text از سل قبلی ساخته شدن)\n",
    "\n",
    "# 4. ترکیب نهایی همه فیچرها\n",
    "X_all = hstack([X_sample_name_text, X_text, X_numeric_sparse])\n",
    "\n",
    "print(f\"🔢 شکل نهایی فیچرها: {X_all.shape}\")\n"
   ]
  },
  {
   "cell_type": "code",
   "execution_count": null,
   "id": "08713630",
   "metadata": {},
   "outputs": [],
   "source": [
    "# ------------------ Prepare Labels ------------------\n",
    "grouped = df.groupby(\"SampleName\")[\"MasterTestCode\"].apply(set).reset_index()\n",
    "mlb = MultiLabelBinarizer()\n",
    "y_all = mlb.fit_transform(grouped[\"MasterTestCode\"])"
   ]
  },
  {
   "cell_type": "code",
   "execution_count": null,
   "id": "a58bd2e8",
   "metadata": {},
   "outputs": [],
   "source": [
    "# ------------------ Filter Rare Labels Before Training ------------------\n",
    "label_counts = df.groupby(\"MasterTestCode\")[\"SampleName\"].nunique()\n",
    "rare_labels = label_counts[label_counts < 15].index  # ← آستانه: کمتر از 10 نمونه\n",
    "\n",
    "print(f\"✅ تعداد لیبل‌های حذف‌شده: {len(df_filtered)}\")\n",
    "df_filtered = df[~df[\"MasterTestCode\"].isin(rare_labels)].copy()\n",
    "print(f\"✅ تعداد لیبل‌های حذف‌شده: {len(df_filtered)}\")\n",
    "print(f\"✅ تعداد لیبل‌های حذف‌شده: {len(rare_labels)}\")"
   ]
  },
  {
   "cell_type": "code",
   "execution_count": null,
   "id": "399f429e",
   "metadata": {},
   "outputs": [],
   "source": [
    "# ------------------ گروه‌بندی داده‌ها ------------------\n",
    "grouped = df.groupby(\"SampleName\")[\"MasterTestCode\"].apply(set).reset_index()\n",
    "mlb = MultiLabelBinarizer()\n",
    "y_all = mlb.fit_transform(grouped[\"MasterTestCode\"])"
   ]
  },
  {
   "cell_type": "code",
   "execution_count": null,
   "id": "fa5d3313",
   "metadata": {},
   "outputs": [],
   "source": [
    "# ------------------ انتخاب SampleName‌های یکتا و استخراج ویژگی ------------------\n",
    "df_grouped = df.drop_duplicates(subset=\"SampleName\").set_index(\"SampleName\").loc[grouped[\"SampleName\"]].reset_index()\n",
    "\n",
    "# TF-IDF از SampleName\n",
    "vectorizer = TfidfVectorizer(max_features=100)\n",
    "X_text = vectorizer.fit_transform(df_grouped[\"SampleName\"].astype(str))\n",
    "\n",
    "# ویژگی‌های عددی از high_dependency_tests با وزن‌دهی زمانی\n",
    "X_numeric = sample_features[[ \n",
    "    \"FeBase_weighted\", \"Destruct_weighted\", \"IsLarge_weighted\",\n",
    "    \"StrongDepCount_weighted\",\n",
    "    \"FeBase_mean\", \"Destruct_mean\", \"IsLarge_mean\",\n",
    "    \"LogTotalCount\"\n",
    "]].fillna(0).values\n",
    "\n",
    "# ترکیب ویژگی‌ها\n",
    "X_all = np.hstack([X_text.toarray(), X_numeric])\n"
   ]
  },
  {
   "cell_type": "code",
   "execution_count": null,
   "id": "b38c51e6",
   "metadata": {},
   "outputs": [],
   "source": [
    "# ------------------ تقسیم‌بندی ------------------\n",
    "X_train, X_test, y_train, y_test = train_test_split(X_all, y_all, test_size=0.1, random_state=42)"
   ]
  },
  {
   "cell_type": "code",
   "execution_count": null,
   "id": "64e1541d",
   "metadata": {},
   "outputs": [],
   "source": [
    "# ------------------ آموزش مدل به ازای هر لیبل ------------------\n",
    "models = []\n",
    "print(\"🎯 شروع آموزش مدل LightGBM برای هر برچسب...\")\n",
    "for i in tqdm(range(y_train.shape[1]), desc=\"Training labels\"):\n",
    "    y_label = y_train[:, i]\n",
    "    model = LGBMClassifier(n_estimators=100, random_state=42, n_jobs=-1)\n",
    "    model.fit(X_train, y_label)\n",
    "    models.append(model)\n",
    "    \n",
    "# ------------------ Save Artifacts ------------------\n",
    "os.makedirs(\"model_output_new\", exist_ok=True)\n",
    "joblib.dump(models, \"model_output_new/lightgbm_models.pkl\")\n",
    "joblib.dump(vectorizer, \"model_output_new/vectorizer.pkl\")\n",
    "joblib.dump(mlb, \"model_output_new/label_binarizer.pkl\")"
   ]
  }
 ],
 "metadata": {
  "kernelspec": {
   "display_name": "Python (RasfAi)",
   "language": "python",
   "name": "new_rasfai"
  },
  "language_info": {
   "codemirror_mode": {
    "name": "ipython",
    "version": 3
   },
   "file_extension": ".py",
   "mimetype": "text/x-python",
   "name": "python",
   "nbconvert_exporter": "python",
   "pygments_lexer": "ipython3",
   "version": "3.10.12"
  }
 },
 "nbformat": 4,
 "nbformat_minor": 5
}
